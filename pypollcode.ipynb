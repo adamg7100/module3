{
 "cells": [
  {
   "cell_type": "code",
   "execution_count": null,
   "id": "205226aa",
   "metadata": {},
   "outputs": [],
   "source": [
    "import os\n",
    "import csv\n",
    "# budget = os.path.join('.', 'Resources', 'pybudget_data.csv')\n",
    "csvfile = r\".election_data.csv\"\n",
    "print(f'Election Results\\n -----------------------\\n')\n",
    "\n",
    "totalvotes=0\n",
    "candidate_votes={}\n",
    "candidate_name=[]\n",
    "\n",
    "# Read the csv and convert it into a list of dictionaries\n",
    "with open(csvfile) as election_data:\n",
    "    reader = csv.reader(election_data)\n",
    "\n",
    "    # Read the header\n",
    "    header = next(reader)\n",
    "\n",
    "    # For each row...\n",
    "    for row in reader:\n",
    "        totalvotes = totalvotes+1\n",
    "        total_candidates=row[1]\n",
    "        \n",
    "\n",
    "        # Extract the candidate name from each row\n",
    "         # If the candidate does not match any existing candidate...\n",
    "        # (In a way, our loop is \"discovering\" candidates as it goes)\n",
    "           \n",
    "                \n",
    "            # Add it to the list of candidates in the running\n",
    "           \n",
    "            # And begin tracking that candidate's voter count\n",
    "\n",
    "        # Then add a vote to that candidate's count\n",
    "        for candidate_name in df['Candidate']:\n",
    "            if candidate_name not in candidate_name:\n",
    "                candidate_options.append(df[\"Candidate\"])\n",
    "                candidate_votes[df[\"Candidate\"]] = 1\n",
    "            else:\n",
    "                candidate_votes[df[\"Candidate\"]] = candidate_votes[df[\"Candidate\"]] + 1\n",
    "      \n",
    "   \n",
    "    candidate_votes = df.groupby('Candidate')['Total Votes'].sum()\n",
    "    \n",
    "    candidate_percentages = (candidate_votes / totalvotes) * 100\n",
    "    \n",
    "print(f'Total Votes: {totalvotes}')\n",
    "    \n",
    "print(\"Breakdown of votes:\")\n",
    "for candidate, votes in candidate_votes.items():\n",
    "        percentage = candidate_percentages[candidate]\n",
    "        print(f\"{candidate}: {votes} votes ({percentage}\")"
   ]
  }
 ],
 "metadata": {
  "kernelspec": {
   "display_name": "Python 3 (ipykernel)",
   "language": "python",
   "name": "python3"
  },
  "language_info": {
   "codemirror_mode": {
    "name": "ipython",
    "version": 3
   },
   "file_extension": ".py",
   "mimetype": "text/x-python",
   "name": "python",
   "nbconvert_exporter": "python",
   "pygments_lexer": "ipython3",
   "version": "3.10.11"
  }
 },
 "nbformat": 4,
 "nbformat_minor": 5
}
